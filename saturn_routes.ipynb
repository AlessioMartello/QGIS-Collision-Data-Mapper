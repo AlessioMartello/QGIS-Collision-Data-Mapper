{
 "cells": [
  {
   "cell_type": "code",
   "execution_count": 1,
   "metadata": {},
   "outputs": [],
   "source": [
    "from methods import load_data, select_data, group_nodes, group_links, obtain_routes, export_results\n",
    "import pathlib"
   ]
  },
  {
   "cell_type": "code",
   "execution_count": 2,
   "metadata": {},
   "outputs": [],
   "source": [
    "file = pathlib.Path.cwd() / \"Enfield Saturn Routes AM test.xlsx\""
   ]
  },
  {
   "cell_type": "code",
   "execution_count": 3,
   "metadata": {},
   "outputs": [],
   "source": [
    "#Load raw data\n",
    "strategic_raw_data, qgis_table = load_data(file, file)"
   ]
  },
  {
   "cell_type": "code",
   "execution_count": 4,
   "metadata": {},
   "outputs": [],
   "source": [
    "nodes = select_data(strategic_raw_data, qgis_table)\n",
    "ogv_nodes = select_data(strategic_raw_data, qgis_table, ogv=True) #Extract routes for user class 9 (OGVs)"
   ]
  },
  {
   "cell_type": "code",
   "execution_count": 5,
   "metadata": {},
   "outputs": [],
   "source": [
    "nodes_grouped=group_nodes(nodes)\n",
    "ogv_nodes_grouped=group_nodes(ogv_nodes)"
   ]
  },
  {
   "cell_type": "code",
   "execution_count": 6,
   "metadata": {},
   "outputs": [],
   "source": [
    "links = group_links(nodes_grouped)\n",
    "ogv_links = group_links(ogv_nodes_grouped)"
   ]
  },
  {
   "cell_type": "code",
   "execution_count": 7,
   "metadata": {},
   "outputs": [],
   "source": [
    "routes = obtain_routes(links, qgis_table)\n",
    "ogv_routes=obtain_routes(ogv_links, qgis_table)"
   ]
  },
  {
   "cell_type": "markdown",
   "metadata": {},
   "source": [
    "Separate gis sheet from same file"
   ]
  },
  {
   "cell_type": "code",
   "execution_count": 8,
   "metadata": {},
   "outputs": [],
   "source": [
    "# Export results\n",
    "export_results(routes, \"uc_1-8_routes\")\n",
    "export_results(ogv_routes, \"ogv_routes\")"
   ]
  }
 ],
 "metadata": {
  "kernelspec": {
   "display_name": "Python 3",
   "language": "python",
   "name": "python3"
  },
  "language_info": {
   "codemirror_mode": {
    "name": "ipython",
    "version": 3
   },
   "file_extension": ".py",
   "mimetype": "text/x-python",
   "name": "python",
   "nbconvert_exporter": "python",
   "pygments_lexer": "ipython3",
   "version": "3.8.6"
  }
 },
 "nbformat": 4,
 "nbformat_minor": 4
}
