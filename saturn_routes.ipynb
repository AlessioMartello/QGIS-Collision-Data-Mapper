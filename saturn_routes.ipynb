{
 "cells": [
  {
   "cell_type": "markdown",
   "metadata": {},
   "source": [
    "# Do i need volumes join? test on new data, make GUI"
   ]
  },
  {
   "cell_type": "code",
   "execution_count": 8,
   "metadata": {},
   "outputs": [],
   "source": [
    "from methods import load_data, select_route_data, group_nodes, group_links, obtain_routes, routes_volume_join, drop_duplicates, export_to_json, qgis_json_format, to_list, df_writer\n",
    "import pathlib\n",
    "import pandas as pd"
   ]
  },
  {
   "cell_type": "code",
   "execution_count": 9,
   "metadata": {},
   "outputs": [],
   "source": [
    "file = pathlib.Path.cwd() / \"Enfield Saturn Routes AM test.xlsx\""
   ]
  },
  {
   "cell_type": "code",
   "execution_count": 10,
   "metadata": {},
   "outputs": [],
   "source": [
    "strategic_data_file = pathlib.Path.cwd() / \"Enfield Saturn Routes AM test.xlsx\"\n",
    "qgis_file = pathlib.Path.cwd() / \"qgis_data.xlsx\"\n",
    "strategic_raw_data, qgis_table = load_data(strategic_data_file, qgis_file) #Load raw data"
   ]
  },
  {
   "cell_type": "code",
   "execution_count": 11,
   "metadata": {},
   "outputs": [],
   "source": [
    "volumes, nodes = select_route_data(strategic_raw_data)\n",
    "ogv_volumes, ogv_nodes = select_route_data(strategic_raw_data, ogv=True) #Extract routes for user class 9 (OGVs)"
   ]
  },
  {
   "cell_type": "code",
   "execution_count": 12,
   "metadata": {},
   "outputs": [],
   "source": [
    "data_sets = {\"routes\": nodes, \"ogv_routes\": ogv_nodes}\n",
    "route_codes=[]\n",
    "for user_class, data in data_sets.items():\n",
    "    nodes = to_list(data)\n",
    "    nodes_grouped=group_nodes(nodes) # Group the node sequences that make up a route\n",
    "    links = group_links(nodes_grouped) # From the node sequences create the links\n",
    "    routes = obtain_routes(links, qgis_table) # For the links create the list of links that make up each route\n",
    "    routes = routes_volume_join(routes) # Associate the volumes to the routes \n",
    "    unique_routes = drop_duplicates(routes) # Remove duplicated routes, totalling the volumes (TODO)\n",
    "    qgis_routes, route_ids = qgis_json_format(unique_routes) if user_class != \"ogv_routes\" else qgis_json_format(unique_routes, ogv=True) # Format results\n",
    "    route_codes.append([route_ids[i].split(\"/\")[-1].strip(\".gpkg\") for i in range(len(route_ids))])\n",
    "    export_to_json(user_class, qgis_routes) # Export"
   ]
  },
  {
   "cell_type": "code",
   "execution_count": 13,
   "metadata": {},
   "outputs": [],
   "source": [
    "volumes=volumes.drop_duplicates().dropna()\n",
    "ogv_volumes=ogv_volumes.drop_duplicates().dropna()"
   ]
  },
  {
   "cell_type": "code",
   "execution_count": 14,
   "metadata": {
    "scrolled": true
   },
   "outputs": [],
   "source": [
    "for i, y, name in zip(route_codes, [volumes, ogv_volumes], [\"route_volumes\", \"ogv_route_volumes\"]):\n",
    "    res1= pd.DataFrame(i).reset_index(drop=True)\n",
    "    res1.columns = [\"Origin_Route-ID_UC\"]\n",
    "    res2=pd.DataFrame(y).reset_index(drop=True)\n",
    "    res3 = pd.concat([res1, res2], axis=1) # SOLVE MISSING DATA POINT\n",
    "    res3.to_excel(f\"{name}.xlsx\", index=False)"
   ]
  }
 ],
 "metadata": {
  "kernelspec": {
   "display_name": "Python 3",
   "language": "python",
   "name": "python3"
  },
  "language_info": {
   "codemirror_mode": {
    "name": "ipython",
    "version": 3
   },
   "file_extension": ".py",
   "mimetype": "text/x-python",
   "name": "python",
   "nbconvert_exporter": "python",
   "pygments_lexer": "ipython3",
   "version": "3.8.6"
  }
 },
 "nbformat": 4,
 "nbformat_minor": 4
}
