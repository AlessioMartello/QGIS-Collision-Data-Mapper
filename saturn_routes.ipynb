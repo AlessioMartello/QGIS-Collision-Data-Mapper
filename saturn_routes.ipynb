{
 "cells": [
  {
   "cell_type": "code",
   "execution_count": 1,
   "metadata": {},
   "outputs": [],
   "source": [
    "import pandas as pd\n",
    "import pathlib"
   ]
  },
  {
   "cell_type": "code",
   "execution_count": 2,
   "metadata": {},
   "outputs": [],
   "source": [
    "file = pathlib.Path.cwd() / \"Enfield Saturn Routes AM test.xlsx\""
   ]
  },
  {
   "cell_type": "code",
   "execution_count": 3,
   "metadata": {},
   "outputs": [],
   "source": [
    "strategic_raw_data = pd.read_excel(file, header=0, dtpe=object)\n",
    "qgis_table = pd.read_excel(file, sheet_name=1, header=0, usecols=[\"AssANode\",\"AssBNode\", \"ID\"], index_col=None)"
   ]
  },
  {
   "cell_type": "markdown",
   "metadata": {},
   "source": [
    "Separate gis sheet from same file"
   ]
  },
  {
   "cell_type": "markdown",
   "metadata": {},
   "source": [
    "# add uc9 (ogv) df analysis if necessary"
   ]
  },
  {
   "cell_type": "code",
   "execution_count": 5,
   "metadata": {},
   "outputs": [],
   "source": [
    "# Obtain the relevant user class data, filter the unique route information\n",
    "ogv_index=min(strategic_raw_data[strategic_raw_data[\"UC\"] == 9].index)\n",
    "strategic_data=strategic_raw_data[:ogv_index]\n",
    "strategic_data=strategic_data[strategic_data.iloc[:,0] == \"route\"]\n",
    "strategic_data.drop_duplicates(keep=\"first\", inplace=True)"
   ]
  },
  {
   "cell_type": "code",
   "execution_count": 8,
   "metadata": {},
   "outputs": [],
   "source": [
    "# Create a list with all the nodes\n",
    "nodes = strategic_data.to_string(header=False, index=False).split()\n",
    "nodes=list(filter(lambda x: \"NaN\" not in x, nodes))"
   ]
  },
  {
   "cell_type": "code",
   "execution_count": 18,
   "metadata": {},
   "outputs": [],
   "source": [
    "# create a nested list containing lists of nodes that make up each route. Use \"route\" string as separator.\n",
    "# Handle the extra characters\n",
    "nodes_grouped, count = [], -1 # todo change from -1\n",
    "for i in range(len(nodes)):\n",
    "    if nodes[i] == \"route\":\n",
    "        nodes_grouped.append([])\n",
    "        count+=1\n",
    "        continue\n",
    "    if \"+\" in nodes[i]:\n",
    "        nodes_grouped[count].append(float(nodes[i].replace(\"+\",\"\")))\n",
    "    else:\n",
    "        nodes_grouped[count].append(float(nodes[i]))"
   ]
  },
  {
   "cell_type": "code",
   "execution_count": 20,
   "metadata": {},
   "outputs": [],
   "source": [
    "# Adjust the final element in each list that have been formatted as % in excel\n",
    "for count, node_group in enumerate(nodes_grouped):\n",
    "    if len(str(node_group[-1])) < len(str(node_group[0])): # Think of a more robust way, perhaps average the lengths of all but the last\n",
    "        node_group[-1] = node_group[-1]*100\n",
    "    nodes_grouped[count] = list(map(int,node_group))"
   ]
  },
  {
   "cell_type": "code",
   "execution_count": 12,
   "metadata": {},
   "outputs": [],
   "source": [
    "# In the same nested list format, populate with the node to node combinations that make up the links\n",
    "nodes_joined=[]\n",
    "for i in range(len(nodes_grouped)):\n",
    "    nodes_joined.append([])\n",
    "    for j in range(len(nodes_grouped[i])-1):\n",
    "        nodes_joined[i].append(f\"{nodes_grouped[i][j]}>{nodes_grouped[i][j+1]}\")"
   ]
  },
  {
   "cell_type": "markdown",
   "metadata": {},
   "source": [
    "Extract the ID for each node to node combination, representing a link."
   ]
  },
  {
   "cell_type": "code",
   "execution_count": 13,
   "metadata": {},
   "outputs": [],
   "source": [
    "# Obtain the link numbers for each node to node combination. Each list is a route composed of links.\n",
    "links=[]\n",
    "for i in range(len(nodes_joined)):\n",
    "    links.append([])\n",
    "    for link in nodes_joined[i]:\n",
    "        link_index = (qgis_table.index[qgis_table[\"AssBNode\"] == link].tolist()[0])\n",
    "        links[i].append(qgis_table.at[link_index, \"ID\"])"
   ]
  },
  {
   "cell_type": "code",
   "execution_count": 14,
   "metadata": {},
   "outputs": [],
   "source": [
    "link_df = pd.DataFrame(links)\n",
    "link_df.to_csv('uc1-8__unique_routes.csv', index=False, header=False)"
   ]
  }
 ],
 "metadata": {
  "kernelspec": {
   "display_name": "Python 3",
   "language": "python",
   "name": "python3"
  },
  "language_info": {
   "codemirror_mode": {
    "name": "ipython",
    "version": 3
   },
   "file_extension": ".py",
   "mimetype": "text/x-python",
   "name": "python",
   "nbconvert_exporter": "python",
   "pygments_lexer": "ipython3",
   "version": "3.8.6"
  }
 },
 "nbformat": 4,
 "nbformat_minor": 4
}
