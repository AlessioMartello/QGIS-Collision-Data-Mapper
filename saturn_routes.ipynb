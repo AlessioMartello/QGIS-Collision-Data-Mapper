{
 "cells": [
  {
   "cell_type": "code",
   "execution_count": 91,
   "metadata": {},
   "outputs": [],
   "source": [
    "from methods import load_data, select_route_data, group_nodes, group_links, obtain_routes, export_results, select_volume_data, routes_volume_join, drop_duplicates\n",
    "import pathlib\n",
    "import json"
   ]
  },
  {
   "cell_type": "code",
   "execution_count": 2,
   "metadata": {},
   "outputs": [],
   "source": [
    "file = pathlib.Path.cwd() / \"Enfield Saturn Routes AM test.xlsx\""
   ]
  },
  {
   "cell_type": "code",
   "execution_count": 3,
   "metadata": {},
   "outputs": [],
   "source": [
    "#Load raw data\n",
    "strategic_raw_data, qgis_table = load_data(file, file)"
   ]
  },
  {
   "cell_type": "code",
   "execution_count": 4,
   "metadata": {},
   "outputs": [],
   "source": [
    "nodes = select_route_data(strategic_raw_data)\n",
    "ogv_nodes = select_route_data(strategic_raw_data, ogv=True) #Extract routes for user class 9 (OGVs)"
   ]
  },
  {
   "cell_type": "code",
   "execution_count": 5,
   "metadata": {},
   "outputs": [],
   "source": [
    "nodes_grouped=group_nodes(nodes)\n",
    "ogv_nodes_grouped=group_nodes(ogv_nodes)"
   ]
  },
  {
   "cell_type": "code",
   "execution_count": 6,
   "metadata": {},
   "outputs": [],
   "source": [
    "links = group_links(nodes_grouped)\n",
    "ogv_links = group_links(ogv_nodes_grouped)"
   ]
  },
  {
   "cell_type": "code",
   "execution_count": 7,
   "metadata": {},
   "outputs": [],
   "source": [
    "routes = obtain_routes(links, qgis_table)\n",
    "ogv_routes=obtain_routes(ogv_links, qgis_table)"
   ]
  },
  {
   "cell_type": "markdown",
   "metadata": {},
   "source": [
    "Separate gis sheet from same file"
   ]
  },
  {
   "cell_type": "code",
   "execution_count": 8,
   "metadata": {},
   "outputs": [],
   "source": [
    "all_routes = routes + ogv_routes"
   ]
  },
  {
   "cell_type": "code",
   "execution_count": 9,
   "metadata": {},
   "outputs": [],
   "source": [
    "volumes=select_volume_data(strategic_raw_data)"
   ]
  },
  {
   "cell_type": "code",
   "execution_count": 10,
   "metadata": {},
   "outputs": [],
   "source": [
    "routes = routes_volume_join(routes, volumes)\n",
    "ogv_routes = routes_volume_join(ogv_routes, volumes)"
   ]
  },
  {
   "cell_type": "code",
   "execution_count": 11,
   "metadata": {},
   "outputs": [],
   "source": [
    "unique_routes = drop_duplicates(routes)\n",
    "ogv_unique_routes = drop_duplicates(ogv_routes)"
   ]
  },
  {
   "cell_type": "code",
   "execution_count": 83,
   "metadata": {},
   "outputs": [],
   "source": [
    "LINK_INPUT = \"anyoldinput\"\n",
    "LINK_OUTPUT = \"anyoldoutput\""
   ]
  },
  {
   "cell_type": "code",
   "execution_count": 88,
   "metadata": {},
   "outputs": [],
   "source": [
    "new = []\n",
    "dicto={}\n",
    "for i in range(len(unique_routes)):\n",
    "    dicto[\"PARAMETERS\"] ={}\n",
    "    route_expression = \"' \\\\\\\"NO\\\\\\\"  = \" + \" or \\\\\\\"NO\\\\\\\"  = \".join(list(map(str,unique_routes[i]))) + \"\\\\n'\"\n",
    "    dicto[\"PARAMETERS\"][\"INPUT\"] = LINK_INPUT\n",
    "    dicto[\"PARAMETERS\"][\"EXPRESSION\"] = route_expression\n",
    "    dicto[\"OUTPUTS\"] = {}\n",
    "    dicto[\"OUTPUTS\"][\"OUTPUT\"] = LINK_OUTPUT\n",
    "    dicto[\"OUTPUTS\"][\"FAIL_OUTPUT\"] = LINK_OUTPUT\n",
    "    new.append(dicto)"
   ]
  },
  {
   "cell_type": "code",
   "execution_count": 93,
   "metadata": {},
   "outputs": [],
   "source": [
    "filename = \"test.json\"\n",
    "with open(filename, \"w\") as f:\n",
    "    json.dump(new, f)"
   ]
  },
  {
   "cell_type": "markdown",
   "metadata": {},
   "source": [
    "export_results(unique_routes, \"unique_routes\")\n",
    "export_results(ogv_unique_routes, \"ogv_unique_routes\")"
   ]
  }
 ],
 "metadata": {
  "kernelspec": {
   "display_name": "Python 3",
   "language": "python",
   "name": "python3"
  },
  "language_info": {
   "codemirror_mode": {
    "name": "ipython",
    "version": 3
   },
   "file_extension": ".py",
   "mimetype": "text/x-python",
   "name": "python",
   "nbconvert_exporter": "python",
   "pygments_lexer": "ipython3",
   "version": "3.8.6"
  }
 },
 "nbformat": 4,
 "nbformat_minor": 4
}
