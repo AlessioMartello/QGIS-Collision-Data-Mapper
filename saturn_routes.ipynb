{
 "cells": [
  {
   "cell_type": "code",
   "execution_count": 1,
   "metadata": {},
   "outputs": [],
   "source": [
    "from methods import load_data, select_route_data, group_nodes, group_links, obtain_routes, export_to_json, qgis_json_format, to_list, create_volume_table\n",
    "import pathlib"
   ]
  },
  {
   "cell_type": "code",
   "execution_count": 2,
   "metadata": {},
   "outputs": [],
   "source": [
    "strategic_data_file = pathlib.Path.cwd() / \"Enfield Saturn Routes AM test.xlsx\"\n",
    "qgis_file = pathlib.Path.cwd() / \"qgis_data.xlsx\"\n",
    "strategic_raw_data, qgis_table = load_data(strategic_data_file, qgis_file) #Load raw data"
   ]
  },
  {
   "cell_type": "code",
   "execution_count": 3,
   "metadata": {},
   "outputs": [],
   "source": [
    "volumes, nodes = select_route_data(strategic_raw_data)\n",
    "ogv_volumes, ogv_nodes = select_route_data(strategic_raw_data, ogv=True) #Extract routes for user class 9 (OGVs)"
   ]
  },
  {
   "cell_type": "code",
   "execution_count": 4,
   "metadata": {},
   "outputs": [],
   "source": [
    "data_sets = {\"routes\": nodes, \"ogv_routes\": ogv_nodes}\n",
    "route_codes, all_routes_list=[],[]\n",
    "for user_class, data in data_sets.items():\n",
    "    nodes = to_list(data)\n",
    "    nodes_grouped=group_nodes(nodes) # Group the node sequences that make up a route\n",
    "    links = group_links(nodes_grouped) # From the node sequences create the links\n",
    "    routes = obtain_routes(links, qgis_table) # For the links create the list of links that make up each route\n",
    "    all_routes_list.append(routes) # List of all routes, before dropping duplicates, used for volume results\n",
    "    qgis_routes, route_ids = qgis_json_format(routes) if user_class != \"ogv_routes\" else qgis_json_format(routes, ogv=True) # Format results\n",
    "    route_codes.append([route_ids[i].split(\"/\")[-1].strip(\".gpkg\") for i in range(len(routes))])\n",
    "    export_to_json(user_class, qgis_routes) # Export json files"
   ]
  },
  {
   "cell_type": "code",
   "execution_count": 5,
   "metadata": {},
   "outputs": [],
   "source": [
    "create_volume_table(route_codes, all_routes_list, all_volumes = [volumes, ogv_volumes]) # Create a table of routes and volumes and export it"
   ]
  }
 ],
 "metadata": {
  "kernelspec": {
   "display_name": "Python 3",
   "language": "python",
   "name": "python3"
  },
  "language_info": {
   "codemirror_mode": {
    "name": "ipython",
    "version": 3
   },
   "file_extension": ".py",
   "mimetype": "text/x-python",
   "name": "python",
   "nbconvert_exporter": "python",
   "pygments_lexer": "ipython3",
   "version": "3.8.6"
  }
 },
 "nbformat": 4,
 "nbformat_minor": 4
}
