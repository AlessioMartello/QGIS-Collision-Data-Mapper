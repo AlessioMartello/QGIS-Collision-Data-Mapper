{
 "cells": [
  {
   "cell_type": "code",
   "execution_count": 1,
   "metadata": {},
   "outputs": [],
   "source": [
    "from methods import load_data, select_route_data, group_nodes, group_links, obtain_routes, select_volume_data, routes_volume_join, drop_duplicates, export_to_json, qgis_json_format\n",
    "import pathlib"
   ]
  },
  {
   "cell_type": "code",
   "execution_count": 2,
   "metadata": {},
   "outputs": [],
   "source": [
    "file = pathlib.Path.cwd() / \"Enfield Saturn Routes AM test.xlsx\""
   ]
  },
  {
   "cell_type": "code",
   "execution_count": 3,
   "metadata": {},
   "outputs": [],
   "source": [
    "#Load raw data\n",
    "strategic_raw_data, qgis_table = load_data(file, file)"
   ]
  },
  {
   "cell_type": "code",
   "execution_count": 4,
   "metadata": {},
   "outputs": [],
   "source": [
    "nodes = select_route_data(strategic_raw_data)\n",
    "ogv_nodes = select_route_data(strategic_raw_data, ogv=True) #Extract routes for user class 9 (OGVs)"
   ]
  },
  {
   "cell_type": "code",
   "execution_count": 5,
   "metadata": {},
   "outputs": [],
   "source": [
    "data_sets = {\"routes\": nodes, \"ogv_routes\": ogv_nodes}\n",
    "for user_class, data in data_sets.items():\n",
    "    nodes_grouped=group_nodes(data)\n",
    "    links = group_links(nodes_grouped)\n",
    "    routes = obtain_routes(links, qgis_table)\n",
    "    volumes=select_volume_data(strategic_raw_data)\n",
    "    routes = routes_volume_join(routes, volumes)\n",
    "    unique_routes = drop_duplicates(routes)\n",
    "    qgis_routes = qgis_json_format(unique_routes)\n",
    "    export_to_json(user_class, qgis_routes)"
   ]
  },
  {
   "cell_type": "markdown",
   "metadata": {},
   "source": [
    "Separate gis sheet from same file"
   ]
  }
 ],
 "metadata": {
  "kernelspec": {
   "display_name": "Python 3",
   "language": "python",
   "name": "python3"
  },
  "language_info": {
   "codemirror_mode": {
    "name": "ipython",
    "version": 3
   },
   "file_extension": ".py",
   "mimetype": "text/x-python",
   "name": "python",
   "nbconvert_exporter": "python",
   "pygments_lexer": "ipython3",
   "version": "3.8.6"
  }
 },
 "nbformat": 4,
 "nbformat_minor": 4
}
